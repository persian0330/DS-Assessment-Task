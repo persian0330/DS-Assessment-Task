{
 "cells": [
  {
   "cell_type": "markdown",
   "id": "b6aefcae",
   "metadata": {},
   "source": [
    "# Assessment Task"
   ]
  },
  {
   "cell_type": "markdown",
   "id": "ff4d596a",
   "metadata": {},
   "source": [
    "Zongjian Li"
   ]
  },
  {
   "cell_type": "markdown",
   "id": "3e3919ed",
   "metadata": {},
   "source": [
    "## Contents\n",
    "### 1. General Knowledge \n",
    "#### 1.1 Task 1\n",
    "#### 1.2 Task 2\n",
    "### 2. Python Task Assessment \n",
    "#### 1.1 Task 1\n",
    "#### 1.2 Task 2\n",
    "#### 1.2 Task 3"
   ]
  },
  {
   "cell_type": "markdown",
   "id": "0e845e41",
   "metadata": {},
   "source": [
    "## 1. General Knowledge "
   ]
  },
  {
   "cell_type": "markdown",
   "id": "f6828849",
   "metadata": {},
   "source": [
    "### Task 1"
   ]
  },
  {
   "cell_type": "markdown",
   "id": "41f5f1f0",
   "metadata": {},
   "source": [
    "**•\tExplain the difference between mean and median.**"
   ]
  },
  {
   "cell_type": "markdown",
   "id": "b2328d64",
   "metadata": {},
   "source": [
    "Ans: \n",
    "\n",
    "Mean: The mean is the sum of all values divided by the number of value.\n",
    "\n",
    "Median: The median is the middle value in the ordered list of numbers. There are as many values that lie over as under the median value."
   ]
  },
  {
   "cell_type": "markdown",
   "id": "03692eb0",
   "metadata": {},
   "source": [
    "**•\tWhat is recall in a binary classification setting?**"
   ]
  },
  {
   "cell_type": "markdown",
   "id": "c5db6dcf",
   "metadata": {},
   "source": [
    "Ans: \n",
    "\n",
    "$$Recall = \\frac{TP}{TP+FN} $$\n",
    "\n",
    "TP:True positive\n",
    "\n",
    "FN:False negative"
   ]
  },
  {
   "cell_type": "markdown",
   "id": "4c3add2f",
   "metadata": {},
   "source": [
    "**•\tWhat is a false positive?**"
   ]
  },
  {
   "cell_type": "markdown",
   "id": "76c7accf",
   "metadata": {},
   "source": [
    "Ans: \n",
    "\n",
    "The label is negative but it was predicted as positive."
   ]
  },
  {
   "cell_type": "markdown",
   "id": "1d09a3bb",
   "metadata": {},
   "source": [
    "**•\tName a clustering algorithm.**"
   ]
  },
  {
   "cell_type": "markdown",
   "id": "6b63de5f",
   "metadata": {},
   "source": [
    "Ans:\n",
    "\n",
    "K-Means Clustering"
   ]
  },
  {
   "cell_type": "markdown",
   "id": "59635640",
   "metadata": {},
   "source": [
    "**•\tWhat is the difference between regression and classification?**"
   ]
  },
  {
   "cell_type": "markdown",
   "id": "846eb7b9",
   "metadata": {},
   "source": [
    "Ans:\n",
    "\n",
    "Regression:The data are quantitative or numerical (continuous).\n",
    "\n",
    "Classification:The data are qualitative or categorical (discrete)."
   ]
  },
  {
   "cell_type": "markdown",
   "id": "1210deb1",
   "metadata": {},
   "source": [
    "**•\tIn Python: What is the difference between a list and a tuple?**"
   ]
  },
  {
   "cell_type": "markdown",
   "id": "56fa4563",
   "metadata": {},
   "source": [
    "Ans:\n",
    "\n",
    "Tuple is immutable. It cannot be modified after definition. It is more memory-efficient (Python can bundle variables) and can be better for debugging.\n",
    "\n",
    "List is mutable. It can be modified(extend(),append(),pop()...) at anytime. It is better when frequently modifying an object."
   ]
  },
  {
   "cell_type": "markdown",
   "id": "7a741adc",
   "metadata": {},
   "source": [
    "### Task 2"
   ]
  },
  {
   "cell_type": "markdown",
   "id": "9673f210",
   "metadata": {},
   "source": [
    "**Given is the plot below of two probability distributions.**\n",
    "\n",
    "![jupyter](./1.jpg)"
   ]
  },
  {
   "cell_type": "markdown",
   "id": "5b4a48d7",
   "metadata": {},
   "source": [
    "**•\tWhich value of X would be a reasonable decision boundary between Dist A and Dist B and why?**"
   ]
  },
  {
   "cell_type": "markdown",
   "id": "5fcabc97",
   "metadata": {},
   "source": [
    "Ans:\n",
    "\n",
    "$x<2$ is a reasonable decision boundary for Dist A and $x>2$ is for Dist B.\n",
    "\n",
    "When $x<2$, Decide Dist A because $P(Dist A|x)>P(Dist B|x)$\n",
    "\n",
    "When $x>2$, Decide Dist B because $P(Dist B|x)>P(Dist A|x)$"
   ]
  },
  {
   "cell_type": "markdown",
   "id": "a86ddca1",
   "metadata": {},
   "source": [
    "**•\tAssuming Dist A and B are Gaussian distributions what differs between them and what is the same?**"
   ]
  },
  {
   "cell_type": "markdown",
   "id": "e92382d4",
   "metadata": {},
   "source": [
    "Ans:\n",
    "\n",
    "Different:They have different mean value. The mean value of Dist A is less than Dist B. As it is showed in the figure, the green line represents the mean value of Dist A and the purple line represents it of Dist B.\n",
    "\n",
    "Same: They have same variance(or standard deviation). As it is showed in the figure, the length of yellow line are the same."
   ]
  },
  {
   "cell_type": "markdown",
   "id": "f251ac51",
   "metadata": {},
   "source": [
    "## 2. Python Task Assessment "
   ]
  },
  {
   "cell_type": "markdown",
   "id": "f04e59a6",
   "metadata": {},
   "source": [
    "### Task 1"
   ]
  },
  {
   "cell_type": "markdown",
   "id": "a87b992f",
   "metadata": {},
   "source": [
    "**•\tImplement a class with the name Dummy which has a private attribute bias and a private attribute baseline. baseline should be initialized with a value of 1/3 by default.**\n",
    "\n",
    "**•\tCreate a read-only property for bias which returns the bias using the @property decorator.**\n",
    "\n",
    "**•\tCreate a property setter (again using a respective decorator) for baseline which sets baseline to a given value.**\n",
    "\n",
    "**•\tCreate a function with an input parameter called multiplier which calculates multiplier times baseline plus bias and returns the result rounded to 3 digits.**\n",
    "\n",
    "**•\tCreate a function which returns the current date and time in the format hh:mm:ss dd/mm/yy.**"
   ]
  },
  {
   "cell_type": "code",
   "execution_count": 1,
   "id": "cfa7c94a",
   "metadata": {},
   "outputs": [],
   "source": [
    "import time\n",
    "\n",
    "class Dummy:\n",
    "    \n",
    "    def __init__(self, bias):\n",
    "        self.__bias = bias\n",
    "        self.__baseline = 1/3\n",
    "        \n",
    "    @property\n",
    "    def get_bias(self):\n",
    "        return self.__bias\n",
    "    \n",
    "    def set_baseline(self, baseline):\n",
    "        self.__baseline = baseline\n",
    "        \n",
    "    def multi(self, multiplier):\n",
    "        return round(multiplier * self.__baseline + self.__bias, 3)\n",
    "    \n",
    "    def output_time(self):\n",
    "        current_time = int(time.time())\n",
    "        localtime = time.localtime(current_time)\n",
    "        return time.strftime('%H:%M:%S %d/%m/%y', localtime)"
   ]
  },
  {
   "cell_type": "code",
   "execution_count": 2,
   "id": "80677910",
   "metadata": {},
   "outputs": [
    {
     "name": "stdout",
     "output_type": "stream",
     "text": [
      "2.0\n",
      "14:46:01 17/02/23\n"
     ]
    }
   ],
   "source": [
    "#Test\n",
    "D = Dummy(1)\n",
    "print(D.multi(3))\n",
    "print(D.output_time())"
   ]
  },
  {
   "cell_type": "markdown",
   "id": "7e89f22d",
   "metadata": {},
   "source": [
    "### Task 2"
   ]
  },
  {
   "cell_type": "markdown",
   "id": "df2f6c09",
   "metadata": {},
   "source": [
    "**Data description:**\n",
    "\n",
    "**The file dataset.csv has the following columns:**\n",
    "\n",
    "    •event_time: Data and time of purchase\n",
    "\n",
    "    •order_id: Order ID as integer\n",
    "\n",
    "    •product_id: Product ID as integer\n",
    "\n",
    "    •category_id: Category ID as integer\n",
    "\n",
    "    •category_code: Category as strings, e.g., cat_a.subcat_b.subcat_c \n",
    "\n",
    "    •brand: Brand as string\n",
    "\n",
    "    •price: Price as float\n",
    "\n",
    "    •user_id: User ID as integer"
   ]
  },
  {
   "cell_type": "code",
   "execution_count": 3,
   "id": "bcd14d27",
   "metadata": {},
   "outputs": [],
   "source": [
    "import pandas as pd\n",
    "import matplotlib.pyplot as plt"
   ]
  },
  {
   "cell_type": "code",
   "execution_count": 4,
   "id": "48af9b76",
   "metadata": {},
   "outputs": [],
   "source": [
    "df = pd.read_csv('dataset.csv')"
   ]
  },
  {
   "cell_type": "code",
   "execution_count": 5,
   "id": "72c691ab",
   "metadata": {
    "scrolled": true
   },
   "outputs": [
    {
     "data": {
      "text/html": [
       "<div>\n",
       "<style scoped>\n",
       "    .dataframe tbody tr th:only-of-type {\n",
       "        vertical-align: middle;\n",
       "    }\n",
       "\n",
       "    .dataframe tbody tr th {\n",
       "        vertical-align: top;\n",
       "    }\n",
       "\n",
       "    .dataframe thead th {\n",
       "        text-align: right;\n",
       "    }\n",
       "</style>\n",
       "<table border=\"1\" class=\"dataframe\">\n",
       "  <thead>\n",
       "    <tr style=\"text-align: right;\">\n",
       "      <th></th>\n",
       "      <th>event_time</th>\n",
       "      <th>order_id</th>\n",
       "      <th>product_id</th>\n",
       "      <th>category_id</th>\n",
       "      <th>category_code</th>\n",
       "      <th>brand</th>\n",
       "      <th>price</th>\n",
       "      <th>user_id</th>\n",
       "    </tr>\n",
       "  </thead>\n",
       "  <tbody>\n",
       "    <tr>\n",
       "      <th>0</th>\n",
       "      <td>2020-04-24 11:50:39 UTC</td>\n",
       "      <td>2294359932054536986</td>\n",
       "      <td>1515966223509089906</td>\n",
       "      <td>2.268105e+18</td>\n",
       "      <td>electronics.tablet</td>\n",
       "      <td>samsung</td>\n",
       "      <td>162.01</td>\n",
       "      <td>1.515916e+18</td>\n",
       "    </tr>\n",
       "    <tr>\n",
       "      <th>1</th>\n",
       "      <td>2020-04-24 11:50:39 UTC</td>\n",
       "      <td>2294359932054536986</td>\n",
       "      <td>1515966223509089906</td>\n",
       "      <td>2.268105e+18</td>\n",
       "      <td>electronics.tablet</td>\n",
       "      <td>samsung</td>\n",
       "      <td>162.01</td>\n",
       "      <td>1.515916e+18</td>\n",
       "    </tr>\n",
       "    <tr>\n",
       "      <th>2</th>\n",
       "      <td>2020-04-24 14:37:43 UTC</td>\n",
       "      <td>2294444024058086220</td>\n",
       "      <td>2273948319057183658</td>\n",
       "      <td>2.268105e+18</td>\n",
       "      <td>electronics.audio.headphone</td>\n",
       "      <td>huawei</td>\n",
       "      <td>77.52</td>\n",
       "      <td>1.515916e+18</td>\n",
       "    </tr>\n",
       "    <tr>\n",
       "      <th>3</th>\n",
       "      <td>2020-04-24 14:37:43 UTC</td>\n",
       "      <td>2294444024058086220</td>\n",
       "      <td>2273948319057183658</td>\n",
       "      <td>2.268105e+18</td>\n",
       "      <td>electronics.audio.headphone</td>\n",
       "      <td>huawei</td>\n",
       "      <td>77.52</td>\n",
       "      <td>1.515916e+18</td>\n",
       "    </tr>\n",
       "    <tr>\n",
       "      <th>4</th>\n",
       "      <td>2020-04-24 19:16:21 UTC</td>\n",
       "      <td>2294584263154074236</td>\n",
       "      <td>2273948316817424439</td>\n",
       "      <td>2.268105e+18</td>\n",
       "      <td>NaN</td>\n",
       "      <td>karcher</td>\n",
       "      <td>217.57</td>\n",
       "      <td>1.515916e+18</td>\n",
       "    </tr>\n",
       "    <tr>\n",
       "      <th>...</th>\n",
       "      <td>...</td>\n",
       "      <td>...</td>\n",
       "      <td>...</td>\n",
       "      <td>...</td>\n",
       "      <td>...</td>\n",
       "      <td>...</td>\n",
       "      <td>...</td>\n",
       "      <td>...</td>\n",
       "    </tr>\n",
       "    <tr>\n",
       "      <th>2633516</th>\n",
       "      <td>2020-11-21 10:10:01 UTC</td>\n",
       "      <td>2388440981134693942</td>\n",
       "      <td>1515966223526602848</td>\n",
       "      <td>2.268105e+18</td>\n",
       "      <td>electronics.smartphone</td>\n",
       "      <td>oppo</td>\n",
       "      <td>138.87</td>\n",
       "      <td>1.515916e+18</td>\n",
       "    </tr>\n",
       "    <tr>\n",
       "      <th>2633517</th>\n",
       "      <td>2020-11-21 10:10:13 UTC</td>\n",
       "      <td>2388440981134693943</td>\n",
       "      <td>1515966223509089282</td>\n",
       "      <td>2.268105e+18</td>\n",
       "      <td>electronics.smartphone</td>\n",
       "      <td>apple</td>\n",
       "      <td>418.96</td>\n",
       "      <td>1.515916e+18</td>\n",
       "    </tr>\n",
       "    <tr>\n",
       "      <th>2633518</th>\n",
       "      <td>2020-11-21 10:10:30 UTC</td>\n",
       "      <td>2388440981134693944</td>\n",
       "      <td>1515966223509089917</td>\n",
       "      <td>2.268105e+18</td>\n",
       "      <td>appliances.personal.scales</td>\n",
       "      <td>vitek</td>\n",
       "      <td>12.48</td>\n",
       "      <td>1.515916e+18</td>\n",
       "    </tr>\n",
       "    <tr>\n",
       "      <th>2633519</th>\n",
       "      <td>2020-11-21 10:10:30 UTC</td>\n",
       "      <td>2388440981134693944</td>\n",
       "      <td>2273948184839454837</td>\n",
       "      <td>2.268105e+18</td>\n",
       "      <td>NaN</td>\n",
       "      <td>moulinex</td>\n",
       "      <td>41.64</td>\n",
       "      <td>1.515916e+18</td>\n",
       "    </tr>\n",
       "    <tr>\n",
       "      <th>2633520</th>\n",
       "      <td>2020-11-21 10:10:30 UTC</td>\n",
       "      <td>2388440981134693944</td>\n",
       "      <td>1515966223509127566</td>\n",
       "      <td>2.268105e+18</td>\n",
       "      <td>appliances.kitchen.blender</td>\n",
       "      <td>redmond</td>\n",
       "      <td>53.22</td>\n",
       "      <td>1.515916e+18</td>\n",
       "    </tr>\n",
       "  </tbody>\n",
       "</table>\n",
       "<p>2633521 rows × 8 columns</p>\n",
       "</div>"
      ],
      "text/plain": [
       "                      event_time             order_id           product_id  \\\n",
       "0        2020-04-24 11:50:39 UTC  2294359932054536986  1515966223509089906   \n",
       "1        2020-04-24 11:50:39 UTC  2294359932054536986  1515966223509089906   \n",
       "2        2020-04-24 14:37:43 UTC  2294444024058086220  2273948319057183658   \n",
       "3        2020-04-24 14:37:43 UTC  2294444024058086220  2273948319057183658   \n",
       "4        2020-04-24 19:16:21 UTC  2294584263154074236  2273948316817424439   \n",
       "...                          ...                  ...                  ...   \n",
       "2633516  2020-11-21 10:10:01 UTC  2388440981134693942  1515966223526602848   \n",
       "2633517  2020-11-21 10:10:13 UTC  2388440981134693943  1515966223509089282   \n",
       "2633518  2020-11-21 10:10:30 UTC  2388440981134693944  1515966223509089917   \n",
       "2633519  2020-11-21 10:10:30 UTC  2388440981134693944  2273948184839454837   \n",
       "2633520  2020-11-21 10:10:30 UTC  2388440981134693944  1515966223509127566   \n",
       "\n",
       "          category_id                category_code     brand   price  \\\n",
       "0        2.268105e+18           electronics.tablet   samsung  162.01   \n",
       "1        2.268105e+18           electronics.tablet   samsung  162.01   \n",
       "2        2.268105e+18  electronics.audio.headphone    huawei   77.52   \n",
       "3        2.268105e+18  electronics.audio.headphone    huawei   77.52   \n",
       "4        2.268105e+18                          NaN   karcher  217.57   \n",
       "...               ...                          ...       ...     ...   \n",
       "2633516  2.268105e+18       electronics.smartphone      oppo  138.87   \n",
       "2633517  2.268105e+18       electronics.smartphone     apple  418.96   \n",
       "2633518  2.268105e+18   appliances.personal.scales     vitek   12.48   \n",
       "2633519  2.268105e+18                          NaN  moulinex   41.64   \n",
       "2633520  2.268105e+18   appliances.kitchen.blender   redmond   53.22   \n",
       "\n",
       "              user_id  \n",
       "0        1.515916e+18  \n",
       "1        1.515916e+18  \n",
       "2        1.515916e+18  \n",
       "3        1.515916e+18  \n",
       "4        1.515916e+18  \n",
       "...               ...  \n",
       "2633516  1.515916e+18  \n",
       "2633517  1.515916e+18  \n",
       "2633518  1.515916e+18  \n",
       "2633519  1.515916e+18  \n",
       "2633520  1.515916e+18  \n",
       "\n",
       "[2633521 rows x 8 columns]"
      ]
     },
     "execution_count": 5,
     "metadata": {},
     "output_type": "execute_result"
    }
   ],
   "source": [
    "df"
   ]
  },
  {
   "cell_type": "code",
   "execution_count": 6,
   "id": "e49f2ed7",
   "metadata": {
    "scrolled": false
   },
   "outputs": [
    {
     "data": {
      "text/html": [
       "<div>\n",
       "<style scoped>\n",
       "    .dataframe tbody tr th:only-of-type {\n",
       "        vertical-align: middle;\n",
       "    }\n",
       "\n",
       "    .dataframe tbody tr th {\n",
       "        vertical-align: top;\n",
       "    }\n",
       "\n",
       "    .dataframe thead th {\n",
       "        text-align: right;\n",
       "    }\n",
       "</style>\n",
       "<table border=\"1\" class=\"dataframe\">\n",
       "  <thead>\n",
       "    <tr style=\"text-align: right;\">\n",
       "      <th></th>\n",
       "      <th>order_id</th>\n",
       "      <th>product_id</th>\n",
       "      <th>category_id</th>\n",
       "      <th>price</th>\n",
       "      <th>user_id</th>\n",
       "    </tr>\n",
       "  </thead>\n",
       "  <tbody>\n",
       "    <tr>\n",
       "      <th>count</th>\n",
       "      <td>2.633521e+06</td>\n",
       "      <td>2.633521e+06</td>\n",
       "      <td>2.201567e+06</td>\n",
       "      <td>2.201567e+06</td>\n",
       "      <td>5.641690e+05</td>\n",
       "    </tr>\n",
       "    <tr>\n",
       "      <th>mean</th>\n",
       "      <td>2.361783e+18</td>\n",
       "      <td>1.674080e+18</td>\n",
       "      <td>2.273827e+18</td>\n",
       "      <td>1.540932e+02</td>\n",
       "      <td>1.515916e+18</td>\n",
       "    </tr>\n",
       "    <tr>\n",
       "      <th>std</th>\n",
       "      <td>1.716538e+16</td>\n",
       "      <td>3.102249e+17</td>\n",
       "      <td>2.353247e+16</td>\n",
       "      <td>2.419421e+02</td>\n",
       "      <td>2.379057e+07</td>\n",
       "    </tr>\n",
       "    <tr>\n",
       "      <th>min</th>\n",
       "      <td>2.294360e+18</td>\n",
       "      <td>1.515966e+18</td>\n",
       "      <td>2.268105e+18</td>\n",
       "      <td>0.000000e+00</td>\n",
       "      <td>1.515916e+18</td>\n",
       "    </tr>\n",
       "    <tr>\n",
       "      <th>25%</th>\n",
       "      <td>2.348807e+18</td>\n",
       "      <td>1.515966e+18</td>\n",
       "      <td>2.268105e+18</td>\n",
       "      <td>1.456000e+01</td>\n",
       "      <td>1.515916e+18</td>\n",
       "    </tr>\n",
       "    <tr>\n",
       "      <th>50%</th>\n",
       "      <td>2.353254e+18</td>\n",
       "      <td>1.515966e+18</td>\n",
       "      <td>2.268105e+18</td>\n",
       "      <td>5.553000e+01</td>\n",
       "      <td>1.515916e+18</td>\n",
       "    </tr>\n",
       "    <tr>\n",
       "      <th>75%</th>\n",
       "      <td>2.383131e+18</td>\n",
       "      <td>1.515966e+18</td>\n",
       "      <td>2.268105e+18</td>\n",
       "      <td>1.967400e+02</td>\n",
       "      <td>1.515916e+18</td>\n",
       "    </tr>\n",
       "    <tr>\n",
       "      <th>max</th>\n",
       "      <td>2.388441e+18</td>\n",
       "      <td>2.388434e+18</td>\n",
       "      <td>2.374499e+18</td>\n",
       "      <td>5.092590e+04</td>\n",
       "      <td>1.515916e+18</td>\n",
       "    </tr>\n",
       "  </tbody>\n",
       "</table>\n",
       "</div>"
      ],
      "text/plain": [
       "           order_id    product_id   category_id         price       user_id\n",
       "count  2.633521e+06  2.633521e+06  2.201567e+06  2.201567e+06  5.641690e+05\n",
       "mean   2.361783e+18  1.674080e+18  2.273827e+18  1.540932e+02  1.515916e+18\n",
       "std    1.716538e+16  3.102249e+17  2.353247e+16  2.419421e+02  2.379057e+07\n",
       "min    2.294360e+18  1.515966e+18  2.268105e+18  0.000000e+00  1.515916e+18\n",
       "25%    2.348807e+18  1.515966e+18  2.268105e+18  1.456000e+01  1.515916e+18\n",
       "50%    2.353254e+18  1.515966e+18  2.268105e+18  5.553000e+01  1.515916e+18\n",
       "75%    2.383131e+18  1.515966e+18  2.268105e+18  1.967400e+02  1.515916e+18\n",
       "max    2.388441e+18  2.388434e+18  2.374499e+18  5.092590e+04  1.515916e+18"
      ]
     },
     "execution_count": 6,
     "metadata": {},
     "output_type": "execute_result"
    }
   ],
   "source": [
    "df.describe()"
   ]
  },
  {
   "cell_type": "code",
   "execution_count": 7,
   "id": "e3475fbc",
   "metadata": {},
   "outputs": [
    {
     "name": "stdout",
     "output_type": "stream",
     "text": [
      "<class 'pandas.core.frame.DataFrame'>\n",
      "RangeIndex: 2633521 entries, 0 to 2633520\n",
      "Data columns (total 8 columns):\n",
      " #   Column         Dtype  \n",
      "---  ------         -----  \n",
      " 0   event_time     object \n",
      " 1   order_id       int64  \n",
      " 2   product_id     int64  \n",
      " 3   category_id    float64\n",
      " 4   category_code  object \n",
      " 5   brand          object \n",
      " 6   price          float64\n",
      " 7   user_id        float64\n",
      "dtypes: float64(3), int64(2), object(3)\n",
      "memory usage: 160.7+ MB\n"
     ]
    }
   ],
   "source": [
    "df.info()"
   ]
  },
  {
   "cell_type": "markdown",
   "id": "ab2a85a8",
   "metadata": {},
   "source": [
    "**•\tGet a feeling for the variables price and category_code, report the histogram of price.**"
   ]
  },
  {
   "cell_type": "markdown",
   "id": "052aa602",
   "metadata": {},
   "source": [
    "This a the subsetting for 'price' and 'catagory_code'."
   ]
  },
  {
   "cell_type": "code",
   "execution_count": 8,
   "id": "69b3a3e9",
   "metadata": {
    "scrolled": false
   },
   "outputs": [
    {
     "data": {
      "text/html": [
       "<div>\n",
       "<style scoped>\n",
       "    .dataframe tbody tr th:only-of-type {\n",
       "        vertical-align: middle;\n",
       "    }\n",
       "\n",
       "    .dataframe tbody tr th {\n",
       "        vertical-align: top;\n",
       "    }\n",
       "\n",
       "    .dataframe thead th {\n",
       "        text-align: right;\n",
       "    }\n",
       "</style>\n",
       "<table border=\"1\" class=\"dataframe\">\n",
       "  <thead>\n",
       "    <tr style=\"text-align: right;\">\n",
       "      <th></th>\n",
       "      <th>category_code</th>\n",
       "      <th>price</th>\n",
       "    </tr>\n",
       "  </thead>\n",
       "  <tbody>\n",
       "    <tr>\n",
       "      <th>0</th>\n",
       "      <td>electronics.tablet</td>\n",
       "      <td>162.01</td>\n",
       "    </tr>\n",
       "    <tr>\n",
       "      <th>1</th>\n",
       "      <td>electronics.tablet</td>\n",
       "      <td>162.01</td>\n",
       "    </tr>\n",
       "    <tr>\n",
       "      <th>2</th>\n",
       "      <td>electronics.audio.headphone</td>\n",
       "      <td>77.52</td>\n",
       "    </tr>\n",
       "    <tr>\n",
       "      <th>3</th>\n",
       "      <td>electronics.audio.headphone</td>\n",
       "      <td>77.52</td>\n",
       "    </tr>\n",
       "    <tr>\n",
       "      <th>4</th>\n",
       "      <td>NaN</td>\n",
       "      <td>217.57</td>\n",
       "    </tr>\n",
       "    <tr>\n",
       "      <th>...</th>\n",
       "      <td>...</td>\n",
       "      <td>...</td>\n",
       "    </tr>\n",
       "    <tr>\n",
       "      <th>2633516</th>\n",
       "      <td>electronics.smartphone</td>\n",
       "      <td>138.87</td>\n",
       "    </tr>\n",
       "    <tr>\n",
       "      <th>2633517</th>\n",
       "      <td>electronics.smartphone</td>\n",
       "      <td>418.96</td>\n",
       "    </tr>\n",
       "    <tr>\n",
       "      <th>2633518</th>\n",
       "      <td>appliances.personal.scales</td>\n",
       "      <td>12.48</td>\n",
       "    </tr>\n",
       "    <tr>\n",
       "      <th>2633519</th>\n",
       "      <td>NaN</td>\n",
       "      <td>41.64</td>\n",
       "    </tr>\n",
       "    <tr>\n",
       "      <th>2633520</th>\n",
       "      <td>appliances.kitchen.blender</td>\n",
       "      <td>53.22</td>\n",
       "    </tr>\n",
       "  </tbody>\n",
       "</table>\n",
       "<p>2633521 rows × 2 columns</p>\n",
       "</div>"
      ],
      "text/plain": [
       "                       category_code   price\n",
       "0                 electronics.tablet  162.01\n",
       "1                 electronics.tablet  162.01\n",
       "2        electronics.audio.headphone   77.52\n",
       "3        electronics.audio.headphone   77.52\n",
       "4                                NaN  217.57\n",
       "...                              ...     ...\n",
       "2633516       electronics.smartphone  138.87\n",
       "2633517       electronics.smartphone  418.96\n",
       "2633518   appliances.personal.scales   12.48\n",
       "2633519                          NaN   41.64\n",
       "2633520   appliances.kitchen.blender   53.22\n",
       "\n",
       "[2633521 rows x 2 columns]"
      ]
     },
     "execution_count": 8,
     "metadata": {},
     "output_type": "execute_result"
    }
   ],
   "source": [
    "df[['category_code', 'price']]"
   ]
  },
  {
   "cell_type": "markdown",
   "id": "19dd2ad6",
   "metadata": {},
   "source": [
    "Now we will see how does variable 'price' like for each category."
   ]
  },
  {
   "cell_type": "code",
   "execution_count": 9,
   "id": "538b6488",
   "metadata": {},
   "outputs": [
    {
     "data": {
      "text/html": [
       "<div>\n",
       "<style scoped>\n",
       "    .dataframe tbody tr th:only-of-type {\n",
       "        vertical-align: middle;\n",
       "    }\n",
       "\n",
       "    .dataframe tbody tr th {\n",
       "        vertical-align: top;\n",
       "    }\n",
       "\n",
       "    .dataframe thead th {\n",
       "        text-align: right;\n",
       "    }\n",
       "</style>\n",
       "<table border=\"1\" class=\"dataframe\">\n",
       "  <thead>\n",
       "    <tr style=\"text-align: right;\">\n",
       "      <th></th>\n",
       "      <th>count</th>\n",
       "      <th>min</th>\n",
       "      <th>max</th>\n",
       "      <th>mean</th>\n",
       "      <th>median</th>\n",
       "    </tr>\n",
       "    <tr>\n",
       "      <th>category_code</th>\n",
       "      <th></th>\n",
       "      <th></th>\n",
       "      <th></th>\n",
       "      <th></th>\n",
       "      <th></th>\n",
       "    </tr>\n",
       "  </thead>\n",
       "  <tbody>\n",
       "    <tr>\n",
       "      <th>0.00</th>\n",
       "      <td>0</td>\n",
       "      <td>NaN</td>\n",
       "      <td>NaN</td>\n",
       "      <td>NaN</td>\n",
       "      <td>NaN</td>\n",
       "    </tr>\n",
       "    <tr>\n",
       "      <th>0.02</th>\n",
       "      <td>0</td>\n",
       "      <td>NaN</td>\n",
       "      <td>NaN</td>\n",
       "      <td>NaN</td>\n",
       "      <td>NaN</td>\n",
       "    </tr>\n",
       "    <tr>\n",
       "      <th>0.03</th>\n",
       "      <td>0</td>\n",
       "      <td>NaN</td>\n",
       "      <td>NaN</td>\n",
       "      <td>NaN</td>\n",
       "      <td>NaN</td>\n",
       "    </tr>\n",
       "    <tr>\n",
       "      <th>0.05</th>\n",
       "      <td>0</td>\n",
       "      <td>NaN</td>\n",
       "      <td>NaN</td>\n",
       "      <td>NaN</td>\n",
       "      <td>NaN</td>\n",
       "    </tr>\n",
       "    <tr>\n",
       "      <th>0.12</th>\n",
       "      <td>0</td>\n",
       "      <td>NaN</td>\n",
       "      <td>NaN</td>\n",
       "      <td>NaN</td>\n",
       "      <td>NaN</td>\n",
       "    </tr>\n",
       "    <tr>\n",
       "      <th>...</th>\n",
       "      <td>...</td>\n",
       "      <td>...</td>\n",
       "      <td>...</td>\n",
       "      <td>...</td>\n",
       "      <td>...</td>\n",
       "    </tr>\n",
       "    <tr>\n",
       "      <th>sport.trainer</th>\n",
       "      <td>219</td>\n",
       "      <td>4.61</td>\n",
       "      <td>4494.42</td>\n",
       "      <td>292.364840</td>\n",
       "      <td>173.59</td>\n",
       "    </tr>\n",
       "    <tr>\n",
       "      <th>stationery.battery</th>\n",
       "      <td>24940</td>\n",
       "      <td>0.69</td>\n",
       "      <td>69.42</td>\n",
       "      <td>3.202756</td>\n",
       "      <td>2.31</td>\n",
       "    </tr>\n",
       "    <tr>\n",
       "      <th>stationery.cartrige</th>\n",
       "      <td>10718</td>\n",
       "      <td>1.13</td>\n",
       "      <td>381.92</td>\n",
       "      <td>12.397065</td>\n",
       "      <td>9.24</td>\n",
       "    </tr>\n",
       "    <tr>\n",
       "      <th>stationery.paper</th>\n",
       "      <td>3700</td>\n",
       "      <td>0.97</td>\n",
       "      <td>39.33</td>\n",
       "      <td>4.421457</td>\n",
       "      <td>4.14</td>\n",
       "    </tr>\n",
       "    <tr>\n",
       "      <th>stationery.stapler</th>\n",
       "      <td>192</td>\n",
       "      <td>0.23</td>\n",
       "      <td>96.04</td>\n",
       "      <td>29.190625</td>\n",
       "      <td>27.75</td>\n",
       "    </tr>\n",
       "  </tbody>\n",
       "</table>\n",
       "<p>510 rows × 5 columns</p>\n",
       "</div>"
      ],
      "text/plain": [
       "                     count   min      max        mean  median\n",
       "category_code                                                \n",
       "0.00                     0   NaN      NaN         NaN     NaN\n",
       "0.02                     0   NaN      NaN         NaN     NaN\n",
       "0.03                     0   NaN      NaN         NaN     NaN\n",
       "0.05                     0   NaN      NaN         NaN     NaN\n",
       "0.12                     0   NaN      NaN         NaN     NaN\n",
       "...                    ...   ...      ...         ...     ...\n",
       "sport.trainer          219  4.61  4494.42  292.364840  173.59\n",
       "stationery.battery   24940  0.69    69.42    3.202756    2.31\n",
       "stationery.cartrige  10718  1.13   381.92   12.397065    9.24\n",
       "stationery.paper      3700  0.97    39.33    4.421457    4.14\n",
       "stationery.stapler     192  0.23    96.04   29.190625   27.75\n",
       "\n",
       "[510 rows x 5 columns]"
      ]
     },
     "execution_count": 9,
     "metadata": {},
     "output_type": "execute_result"
    }
   ],
   "source": [
    "df.groupby('category_code').price.agg(['count', 'min', 'max', 'mean', 'median'])"
   ]
  },
  {
   "cell_type": "markdown",
   "id": "3538dda4",
   "metadata": {},
   "source": [
    "We noticed that there are many NaN value, which are dirty data. We need to ignore them."
   ]
  },
  {
   "cell_type": "code",
   "execution_count": 10,
   "id": "eae52258",
   "metadata": {},
   "outputs": [
    {
     "data": {
      "text/html": [
       "<div>\n",
       "<style scoped>\n",
       "    .dataframe tbody tr th:only-of-type {\n",
       "        vertical-align: middle;\n",
       "    }\n",
       "\n",
       "    .dataframe tbody tr th {\n",
       "        vertical-align: top;\n",
       "    }\n",
       "\n",
       "    .dataframe thead th {\n",
       "        text-align: right;\n",
       "    }\n",
       "</style>\n",
       "<table border=\"1\" class=\"dataframe\">\n",
       "  <thead>\n",
       "    <tr style=\"text-align: right;\">\n",
       "      <th></th>\n",
       "      <th>count</th>\n",
       "      <th>min</th>\n",
       "      <th>max</th>\n",
       "      <th>mean</th>\n",
       "      <th>median</th>\n",
       "    </tr>\n",
       "    <tr>\n",
       "      <th>category_code</th>\n",
       "      <th></th>\n",
       "      <th></th>\n",
       "      <th></th>\n",
       "      <th></th>\n",
       "      <th></th>\n",
       "    </tr>\n",
       "  </thead>\n",
       "  <tbody>\n",
       "    <tr>\n",
       "      <th>accessories.bag</th>\n",
       "      <td>13586</td>\n",
       "      <td>0.23</td>\n",
       "      <td>231.46</td>\n",
       "      <td>19.307623</td>\n",
       "      <td>16.180</td>\n",
       "    </tr>\n",
       "    <tr>\n",
       "      <th>accessories.umbrella</th>\n",
       "      <td>34</td>\n",
       "      <td>27.75</td>\n",
       "      <td>335.63</td>\n",
       "      <td>67.086765</td>\n",
       "      <td>57.850</td>\n",
       "    </tr>\n",
       "    <tr>\n",
       "      <th>apparel.costume</th>\n",
       "      <td>2</td>\n",
       "      <td>15.02</td>\n",
       "      <td>27.75</td>\n",
       "      <td>21.385000</td>\n",
       "      <td>21.385</td>\n",
       "    </tr>\n",
       "    <tr>\n",
       "      <th>apparel.glove</th>\n",
       "      <td>4710</td>\n",
       "      <td>0.21</td>\n",
       "      <td>694.42</td>\n",
       "      <td>399.263996</td>\n",
       "      <td>403.450</td>\n",
       "    </tr>\n",
       "    <tr>\n",
       "      <th>apparel.shirt</th>\n",
       "      <td>962</td>\n",
       "      <td>30.07</td>\n",
       "      <td>32.38</td>\n",
       "      <td>31.798898</td>\n",
       "      <td>32.380</td>\n",
       "    </tr>\n",
       "    <tr>\n",
       "      <th>...</th>\n",
       "      <td>...</td>\n",
       "      <td>...</td>\n",
       "      <td>...</td>\n",
       "      <td>...</td>\n",
       "      <td>...</td>\n",
       "    </tr>\n",
       "    <tr>\n",
       "      <th>sport.trainer</th>\n",
       "      <td>219</td>\n",
       "      <td>4.61</td>\n",
       "      <td>4494.42</td>\n",
       "      <td>292.364840</td>\n",
       "      <td>173.590</td>\n",
       "    </tr>\n",
       "    <tr>\n",
       "      <th>stationery.battery</th>\n",
       "      <td>24940</td>\n",
       "      <td>0.69</td>\n",
       "      <td>69.42</td>\n",
       "      <td>3.202756</td>\n",
       "      <td>2.310</td>\n",
       "    </tr>\n",
       "    <tr>\n",
       "      <th>stationery.cartrige</th>\n",
       "      <td>10718</td>\n",
       "      <td>1.13</td>\n",
       "      <td>381.92</td>\n",
       "      <td>12.397065</td>\n",
       "      <td>9.240</td>\n",
       "    </tr>\n",
       "    <tr>\n",
       "      <th>stationery.paper</th>\n",
       "      <td>3700</td>\n",
       "      <td>0.97</td>\n",
       "      <td>39.33</td>\n",
       "      <td>4.421457</td>\n",
       "      <td>4.140</td>\n",
       "    </tr>\n",
       "    <tr>\n",
       "      <th>stationery.stapler</th>\n",
       "      <td>192</td>\n",
       "      <td>0.23</td>\n",
       "      <td>96.04</td>\n",
       "      <td>29.190625</td>\n",
       "      <td>27.750</td>\n",
       "    </tr>\n",
       "  </tbody>\n",
       "</table>\n",
       "<p>123 rows × 5 columns</p>\n",
       "</div>"
      ],
      "text/plain": [
       "                      count    min      max        mean   median\n",
       "category_code                                                   \n",
       "accessories.bag       13586   0.23   231.46   19.307623   16.180\n",
       "accessories.umbrella     34  27.75   335.63   67.086765   57.850\n",
       "apparel.costume           2  15.02    27.75   21.385000   21.385\n",
       "apparel.glove          4710   0.21   694.42  399.263996  403.450\n",
       "apparel.shirt           962  30.07    32.38   31.798898   32.380\n",
       "...                     ...    ...      ...         ...      ...\n",
       "sport.trainer           219   4.61  4494.42  292.364840  173.590\n",
       "stationery.battery    24940   0.69    69.42    3.202756    2.310\n",
       "stationery.cartrige   10718   1.13   381.92   12.397065    9.240\n",
       "stationery.paper       3700   0.97    39.33    4.421457    4.140\n",
       "stationery.stapler      192   0.23    96.04   29.190625   27.750\n",
       "\n",
       "[123 rows x 5 columns]"
      ]
     },
     "execution_count": 10,
     "metadata": {},
     "output_type": "execute_result"
    }
   ],
   "source": [
    "df.groupby('category_code').price.agg(['count', 'min', 'max', 'mean', 'median']).dropna()"
   ]
  },
  {
   "cell_type": "markdown",
   "id": "6a9dca8e",
   "metadata": {},
   "source": [
    "Now there are 123 categories left and we can see the descriptive statistcs for them.\n",
    "\n",
    "Based on it we want to create a histogram, to see the mean price of each category.\n",
    "\n",
    "BTW, we want to know which category has the most mean price. "
   ]
  },
  {
   "cell_type": "code",
   "execution_count": 11,
   "id": "0911d4ab",
   "metadata": {
    "scrolled": true
   },
   "outputs": [
    {
     "data": {
      "text/plain": [
       "category_code\n",
       "electronics.camera.video         620.713450\n",
       "electronics.camera.photo         504.926867\n",
       "construction.tools.heater        503.302107\n",
       "appliances.kitchen.dishwasher    489.100339\n",
       "computers.notebook               438.919187\n",
       "                                    ...    \n",
       "auto.accessories.anti_freeze       7.733482\n",
       "kids.dolls                         7.366653\n",
       "country_yard.watering              5.764000\n",
       "stationery.paper                   4.421457\n",
       "stationery.battery                 3.202756\n",
       "Name: price, Length: 123, dtype: float64"
      ]
     },
     "execution_count": 11,
     "metadata": {},
     "output_type": "execute_result"
    }
   ],
   "source": [
    "mean_price_per_category = df.groupby('category_code').price.mean().sort_values(ascending = False).dropna()\n",
    "mean_price_per_category"
   ]
  },
  {
   "cell_type": "markdown",
   "id": "e6bbd98a",
   "metadata": {},
   "source": [
    "Category 'electronics.camera.video ' has the most mean price with 620.713450."
   ]
  },
  {
   "cell_type": "code",
   "execution_count": 12,
   "id": "bab95c91",
   "metadata": {
    "scrolled": false
   },
   "outputs": [
    {
     "data": {
      "image/png": "[encoded data removed]",
      "text/plain": [
       "<Figure size 640x480 with 1 Axes>"
      ]
     },
     "metadata": {},
     "output_type": "display_data"
    }
   ],
   "source": [
    "mean_price_per_category.hist(bins=20, alpha=0.8, color='b')\n",
    "\n",
    "plt.xlabel('price')\n",
    "plt.ylabel('number')\n",
    "plt.title('Numbers for each mean price of category')\n",
    "plt.show()"
   ]
  },
  {
   "cell_type": "markdown",
   "id": "30937610",
   "metadata": {},
   "source": [
    "Finally we can conclude that the average price of most products is 0~100. Only the category 'electronics.camera.video ' has the most mean price with 620.713450."
   ]
  },
  {
   "cell_type": "markdown",
   "id": "6a28114e",
   "metadata": {},
   "source": [
    "**•\tGiven the data we have, we would like to generate two new variables:**\n",
    "\n",
    "    •time_hours (Integer): Which hour of the day was the purchase made?\n",
    "    \n",
    "    •weekday (integer): On which day of the week was the purchase made?"
   ]
  },
  {
   "cell_type": "code",
   "execution_count": 13,
   "id": "a0ce01e0",
   "metadata": {
    "scrolled": true
   },
   "outputs": [
    {
     "data": {
      "text/html": [
       "<div>\n",
       "<style scoped>\n",
       "    .dataframe tbody tr th:only-of-type {\n",
       "        vertical-align: middle;\n",
       "    }\n",
       "\n",
       "    .dataframe tbody tr th {\n",
       "        vertical-align: top;\n",
       "    }\n",
       "\n",
       "    .dataframe thead th {\n",
       "        text-align: right;\n",
       "    }\n",
       "</style>\n",
       "<table border=\"1\" class=\"dataframe\">\n",
       "  <thead>\n",
       "    <tr style=\"text-align: right;\">\n",
       "      <th></th>\n",
       "      <th>event_time</th>\n",
       "      <th>order_id</th>\n",
       "      <th>product_id</th>\n",
       "      <th>category_id</th>\n",
       "      <th>category_code</th>\n",
       "      <th>brand</th>\n",
       "      <th>price</th>\n",
       "      <th>user_id</th>\n",
       "      <th>time_hours</th>\n",
       "      <th>weekday</th>\n",
       "    </tr>\n",
       "  </thead>\n",
       "  <tbody>\n",
       "    <tr>\n",
       "      <th>0</th>\n",
       "      <td>2020-04-24 11:50:39 UTC</td>\n",
       "      <td>2294359932054536986</td>\n",
       "      <td>1515966223509089906</td>\n",
       "      <td>2.268105e+18</td>\n",
       "      <td>electronics.tablet</td>\n",
       "      <td>samsung</td>\n",
       "      <td>162.01</td>\n",
       "      <td>1.515916e+18</td>\n",
       "      <td>11</td>\n",
       "      <td>5</td>\n",
       "    </tr>\n",
       "    <tr>\n",
       "      <th>1</th>\n",
       "      <td>2020-04-24 11:50:39 UTC</td>\n",
       "      <td>2294359932054536986</td>\n",
       "      <td>1515966223509089906</td>\n",
       "      <td>2.268105e+18</td>\n",
       "      <td>electronics.tablet</td>\n",
       "      <td>samsung</td>\n",
       "      <td>162.01</td>\n",
       "      <td>1.515916e+18</td>\n",
       "      <td>11</td>\n",
       "      <td>5</td>\n",
       "    </tr>\n",
       "    <tr>\n",
       "      <th>2</th>\n",
       "      <td>2020-04-24 14:37:43 UTC</td>\n",
       "      <td>2294444024058086220</td>\n",
       "      <td>2273948319057183658</td>\n",
       "      <td>2.268105e+18</td>\n",
       "      <td>electronics.audio.headphone</td>\n",
       "      <td>huawei</td>\n",
       "      <td>77.52</td>\n",
       "      <td>1.515916e+18</td>\n",
       "      <td>14</td>\n",
       "      <td>5</td>\n",
       "    </tr>\n",
       "    <tr>\n",
       "      <th>3</th>\n",
       "      <td>2020-04-24 14:37:43 UTC</td>\n",
       "      <td>2294444024058086220</td>\n",
       "      <td>2273948319057183658</td>\n",
       "      <td>2.268105e+18</td>\n",
       "      <td>electronics.audio.headphone</td>\n",
       "      <td>huawei</td>\n",
       "      <td>77.52</td>\n",
       "      <td>1.515916e+18</td>\n",
       "      <td>14</td>\n",
       "      <td>5</td>\n",
       "    </tr>\n",
       "    <tr>\n",
       "      <th>4</th>\n",
       "      <td>2020-04-24 19:16:21 UTC</td>\n",
       "      <td>2294584263154074236</td>\n",
       "      <td>2273948316817424439</td>\n",
       "      <td>2.268105e+18</td>\n",
       "      <td>NaN</td>\n",
       "      <td>karcher</td>\n",
       "      <td>217.57</td>\n",
       "      <td>1.515916e+18</td>\n",
       "      <td>19</td>\n",
       "      <td>5</td>\n",
       "    </tr>\n",
       "  </tbody>\n",
       "</table>\n",
       "</div>"
      ],
      "text/plain": [
       "                event_time             order_id           product_id  \\\n",
       "0  2020-04-24 11:50:39 UTC  2294359932054536986  1515966223509089906   \n",
       "1  2020-04-24 11:50:39 UTC  2294359932054536986  1515966223509089906   \n",
       "2  2020-04-24 14:37:43 UTC  2294444024058086220  2273948319057183658   \n",
       "3  2020-04-24 14:37:43 UTC  2294444024058086220  2273948319057183658   \n",
       "4  2020-04-24 19:16:21 UTC  2294584263154074236  2273948316817424439   \n",
       "\n",
       "    category_id                category_code    brand   price       user_id  \\\n",
       "0  2.268105e+18           electronics.tablet  samsung  162.01  1.515916e+18   \n",
       "1  2.268105e+18           electronics.tablet  samsung  162.01  1.515916e+18   \n",
       "2  2.268105e+18  electronics.audio.headphone   huawei   77.52  1.515916e+18   \n",
       "3  2.268105e+18  electronics.audio.headphone   huawei   77.52  1.515916e+18   \n",
       "4  2.268105e+18                          NaN  karcher  217.57  1.515916e+18   \n",
       "\n",
       "   time_hours  weekday  \n",
       "0          11        5  \n",
       "1          11        5  \n",
       "2          14        5  \n",
       "3          14        5  \n",
       "4          19        5  "
      ]
     },
     "execution_count": 13,
     "metadata": {},
     "output_type": "execute_result"
    }
   ],
   "source": [
    "#convert to datetime\n",
    "df['time'] = pd.to_datetime(df.event_time, format='%Y-%m-%d %H:%M:%S UTC')\n",
    "#get time_hours\n",
    "df['time_hours'] = df.time.dt.hour\n",
    "#get weekday\n",
    "df['weekday'] = df.time.dt.dayofweek + 1\n",
    "df = df.drop(columns = 'time')\n",
    "df.head()"
   ]
  },
  {
   "cell_type": "markdown",
   "id": "ff26c284",
   "metadata": {},
   "source": [
    "**•\tWhich brand had the most sales volume? Plot a graph of the top 5 brands comparing their sales volume.**"
   ]
  },
  {
   "cell_type": "code",
   "execution_count": 14,
   "id": "ab5cf5d1",
   "metadata": {
    "scrolled": true
   },
   "outputs": [
    {
     "data": {
      "text/plain": [
       "brand\n",
       "samsung    358928\n",
       "ava        118161\n",
       "tefal       78653\n",
       "apple       74709\n",
       "huawei      57438\n",
       "dtype: int64"
      ]
     },
     "execution_count": 14,
     "metadata": {},
     "output_type": "execute_result"
    }
   ],
   "source": [
    "sv_per_brand = df.groupby('brand').size().sort_values(ascending = False)\n",
    "sv_per_brand = sv_per_brand.head()\n",
    "sv_per_brand"
   ]
  },
  {
   "cell_type": "code",
   "execution_count": 15,
   "id": "efb2b9e0",
   "metadata": {},
   "outputs": [
    {
     "data": {
      "image/png": "[encoded data removed]",
      "text/plain": [
       "<Figure size 1000x400 with 1 Axes>"
      ]
     },
     "metadata": {},
     "output_type": "display_data"
    }
   ],
   "source": [
    "# Bar plot\n",
    "plt.figure(figsize=(10,4))\n",
    "sv_per_brand.plot(kind=\"bar\", title=\"Top 5 brands\")\n",
    "plt.show()"
   ]
  },
  {
   "cell_type": "markdown",
   "id": "d622f616",
   "metadata": {},
   "source": [
    "Ans:\n",
    "\n",
    "As we can see, samsung has the most sales volume."
   ]
  },
  {
   "cell_type": "markdown",
   "id": "d566d898",
   "metadata": {},
   "source": [
    "**•\tWhich category had the highest average price?**"
   ]
  },
  {
   "cell_type": "code",
   "execution_count": 16,
   "id": "32185ee7",
   "metadata": {},
   "outputs": [
    {
     "data": {
      "text/plain": [
       "category_code\n",
       "electronics.camera.video     620.713450\n",
       "electronics.camera.photo     504.926867\n",
       "construction.tools.heater    503.302107\n",
       "Name: price, dtype: float64"
      ]
     },
     "execution_count": 16,
     "metadata": {},
     "output_type": "execute_result"
    }
   ],
   "source": [
    "ap_per_category = df.groupby('category_code').price.mean().sort_values(ascending = False)\n",
    "ap_per_category.head(3)"
   ]
  },
  {
   "cell_type": "markdown",
   "id": "5f0bb567",
   "metadata": {},
   "source": [
    "Ans:\n",
    "    \n",
    "Category 'electronics.camera.video' has the highest average price."
   ]
  },
  {
   "cell_type": "markdown",
   "id": "9796964a",
   "metadata": {},
   "source": [
    "**•\tWhich brand and category has the most sales of a price of under 20 currency units?**"
   ]
  },
  {
   "cell_type": "code",
   "execution_count": 17,
   "id": "44f6b887",
   "metadata": {},
   "outputs": [
    {
     "data": {
      "text/plain": [
       "('ava', 'appliances.kitchen.kettle')"
      ]
     },
     "execution_count": 17,
     "metadata": {},
     "output_type": "execute_result"
    }
   ],
   "source": [
    "df[df['price']<20].groupby(['brand', 'category_code'])['price'].sum().idxmax()"
   ]
  },
  {
   "cell_type": "markdown",
   "id": "0a1d87c8",
   "metadata": {},
   "source": [
    "Ans:\n",
    "    \n",
    "Brand 'ava' with catagory 'appliances.kitchen.kettle' has the most sales of a price of under 20 currency units."
   ]
  },
  {
   "cell_type": "markdown",
   "id": "5262bdf9",
   "metadata": {},
   "source": [
    "**•\tWrite a function that plots the distribution of the sales volume over the weekdays.**"
   ]
  },
  {
   "cell_type": "code",
   "execution_count": 18,
   "id": "64800860",
   "metadata": {},
   "outputs": [],
   "source": [
    "def plot_distribution_weekdays():\n",
    "    \"\"\" Plots the distribution of the sales volume over the weekdays.\n",
    "\n",
    "    \"\"\"\n",
    "    sv_per_weekday = df.groupby('weekday').size()\n",
    "    # Bar plot\n",
    "    plt.figure(figsize=(10,4))\n",
    "    sv_per_weekday.plot(kind=\"bar\", title=\"sales volume per weekday\")\n",
    "    plt.show()"
   ]
  },
  {
   "cell_type": "code",
   "execution_count": 19,
   "id": "7509161d",
   "metadata": {},
   "outputs": [
    {
     "data": {
      "image/png": "[encoded data removed]",
      "text/plain": [
       "<Figure size 1000x400 with 1 Axes>"
      ]
     },
     "metadata": {},
     "output_type": "display_data"
    }
   ],
   "source": [
    "plot_distribution_weekdays()"
   ]
  },
  {
   "cell_type": "markdown",
   "id": "549ca4f1",
   "metadata": {},
   "source": [
    "### Task 3"
   ]
  },
  {
   "cell_type": "markdown",
   "id": "7090dc02",
   "metadata": {},
   "source": [
    "**1. Write a function with two inputs, X and Y, that calculates the total cost of sales volume of category X in year Y.**"
   ]
  },
  {
   "cell_type": "code",
   "execution_count": 20,
   "id": "59e8ff34",
   "metadata": {
    "scrolled": true
   },
   "outputs": [],
   "source": [
    "#convert to datetime\n",
    "df['time'] = pd.to_datetime(df.event_time, format='%Y-%m-%d %H:%M:%S UTC')"
   ]
  },
  {
   "cell_type": "code",
   "execution_count": 21,
   "id": "54b7cb50",
   "metadata": {},
   "outputs": [],
   "source": [
    "def calculate_cost(X, Y):\n",
    "    \"\"\" Calculates the total cost of sales volume of category X in year Y.\n",
    "\n",
    "        Args:\n",
    "            X: string, category\n",
    "            Y: int, year \n",
    "\n",
    "        Returns:\n",
    "            total_cost: float, total cost of sales volume of category X in year Y\n",
    "    \"\"\"\n",
    "    return df[(df['category_code']==X)&(df.time.dt.year==Y)].price.sum()\n",
    "    "
   ]
  },
  {
   "cell_type": "code",
   "execution_count": 22,
   "id": "05d76a26",
   "metadata": {
    "scrolled": true
   },
   "outputs": [
    {
     "data": {
      "text/plain": [
       "2027056.64"
      ]
     },
     "execution_count": 22,
     "metadata": {},
     "output_type": "execute_result"
    }
   ],
   "source": [
    "# Test: catagory:appliances.kitchen.kettle year:2020\n",
    "calculate_cost('appliances.kitchen.kettle', 2020)"
   ]
  },
  {
   "cell_type": "markdown",
   "id": "a4e9428c",
   "metadata": {},
   "source": [
    "**2. Write a function with two inputs, X and Y, that calculates the probability for the purchase of an item of brand X to cost more than Y currency units.**"
   ]
  },
  {
   "cell_type": "code",
   "execution_count": 23,
   "id": "0ab06777",
   "metadata": {},
   "outputs": [],
   "source": [
    "def calculate_probability(X, Y):\n",
    "    \"\"\" Calculates the probability for the purchase of an item of brand X to cost more than Y currency units.\n",
    "\n",
    "        Args:\n",
    "            X: string, brand\n",
    "            Y: int, currency units \n",
    "\n",
    "        Returns:\n",
    "            probability: float, purchase of an item of brand X to cost more than Y currency units\n",
    "    \"\"\"\n",
    "    \n",
    "    probability = len(df[(df['brand']==X)&(df['price']>Y)]) / len(df[df['brand']==X])\n",
    "    return probability"
   ]
  },
  {
   "cell_type": "code",
   "execution_count": 24,
   "id": "ee432c0a",
   "metadata": {},
   "outputs": [
    {
     "data": {
      "text/plain": [
       "0.3469828336641248"
      ]
     },
     "execution_count": 24,
     "metadata": {},
     "output_type": "execute_result"
    }
   ],
   "source": [
    "# Test: brand:huawei price:200\n",
    "calculate_probability('huawei', 200)"
   ]
  }
 ],
 "metadata": {
  "kernelspec": {
   "display_name": "Python 3 (ipykernel)",
   "language": "python",
   "name": "python3"
  },
  "language_info": {
   "codemirror_mode": {
    "name": "ipython",
    "version": 3
   },
   "file_extension": ".py",
   "mimetype": "text/x-python",
   "name": "python",
   "nbconvert_exporter": "python",
   "pygments_lexer": "ipython3",
   "version": "3.7.3"
  }
 },
 "nbformat": 4,
 "nbformat_minor": 5
}
